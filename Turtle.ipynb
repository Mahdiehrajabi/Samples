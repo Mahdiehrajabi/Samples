{
  "nbformat": 4,
  "nbformat_minor": 0,
  "metadata": {
    "colab": {
      "provenance": [],
      "authorship_tag": "ABX9TyM7WEER5yJtsd9dKhMIVRB5",
      "include_colab_link": true
    },
    "kernelspec": {
      "name": "python3",
      "display_name": "Python 3"
    },
    "language_info": {
      "name": "python"
    }
  },
  "cells": [
    {
      "cell_type": "markdown",
      "metadata": {
        "id": "view-in-github",
        "colab_type": "text"
      },
      "source": [
        "<a href=\"https://colab.research.google.com/github/Mahdiehrajabi/Samples/blob/main/Turtle.ipynb\" target=\"_parent\"><img src=\"https://colab.research.google.com/assets/colab-badge.svg\" alt=\"Open In Colab\"/></a>"
      ]
    },
    {
      "cell_type": "code",
      "source": [
        "import turtle as tu\n",
        "import random\n",
        "\n",
        "tu = tu.Turtle()\n",
        "\n",
        "colors = [\"antiquewhite4\",\"aquamarine3\",\"azure4\",\"blue3\",\"chartreuse3\",\"crimson\",\"darkseagreen\"]\n",
        "\n",
        "def shape(num_sides):\n",
        "    A = 360 / num_sides\n",
        "    for _ in range(num_sides):\n",
        "        tu.forward(100)\n",
        "        tu.right(A)\n",
        "\n",
        "for shape_side in range(3,11):\n",
        "    tu.color(random.choice(colors))\n",
        "    shape(shape_side)"
      ],
      "metadata": {
        "id": "65r3E-J8-_G0"
      },
      "execution_count": null,
      "outputs": []
    }
  ]
}